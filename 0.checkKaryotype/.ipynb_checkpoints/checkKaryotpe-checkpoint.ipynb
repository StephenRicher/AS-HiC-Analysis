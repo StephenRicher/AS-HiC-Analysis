{
 "cells": [
  {
   "cell_type": "code",
   "execution_count": 150,
   "id": "3288b972",
   "metadata": {},
   "outputs": [],
   "source": [
    "import sys\n",
    "sys.path.append('..')\n",
    "import glob\n",
    "import numpy as np\n",
    "import pandas as pd\n",
    "from pathlib import Path \n",
    "import seaborn as sns\n",
    "import matplotlib.pyplot as plt\n",
    "from scipy.stats import chisquare\n",
    "from utilities import defaultPlotting, formatCell"
   ]
  },
  {
   "cell_type": "code",
   "execution_count": 163,
   "id": "e263eece",
   "metadata": {},
   "outputs": [],
   "source": [
    "def readIDX(file):\n",
    "    dtype = {'chrom': str, 'count': int}\n",
    "    return pd.read_csv(file, dtype=dtype, names=dtype.keys(), sep=' ')\n",
    "\n",
    "def getRatio(x):\n",
    "    if x[('count', '1')] > x[('count', '2')]:\n",
    "        return x[('count', '1')] / x[('count', '2')]\n",
    "    else:\n",
    "        return x[('count', '2')] / x[('count', '1')]\n",
    "    \n",
    "def getSum(x):\n",
    "    return x[('count', '1')] + x[('count', '2')]\n",
    "\n",
    "def getChiP(x):\n",
    "    return chisquare(x[[('count', '1'), ('count', '2')]])[1]\n",
    "\n",
    "def getChiStat(x):\n",
    "    return chisquare(x[[('count', '1'), ('count', '2')]])[0]"
   ]
  },
  {
   "cell_type": "code",
   "execution_count": 164,
   "id": "80e83ed5",
   "metadata": {},
   "outputs": [],
   "source": [
    "autosomes = [f'chr{c}' for c in range(1, 22 + 1)]\n",
    "allchroms = autosomes + ['chrX']\n",
    "capturechroms = ([\n",
    "    'chr1', 'chr2', 'chr4', 'chr5', 'chr6', 'chr7', \n",
    "    'chr8', 'chr10', 'chr11', 'chr14', 'chr15'])\n",
    "\n",
    "cells = [formatCell(cell) for cell in ['GM12878', 'H1hESC', 'IMR90', 'HB2']]"
   ]
  },
  {
   "cell_type": "code",
   "execution_count": 165,
   "id": "edf75cac",
   "metadata": {},
   "outputs": [
    {
     "name": "stderr",
     "output_type": "stream",
     "text": [
      "/tmp/ipykernel_15337/2605211094.py:9: RuntimeWarning: invalid value encountered in double_scalars\n",
      "  return x[('count', '2')] / x[('count', '1')]\n",
      "/home/stephen/miniconda3/lib/python3.9/site-packages/scipy/stats/_stats_py.py:6776: RuntimeWarning: invalid value encountered in divide\n",
      "  terms = (f_obs_float - f_exp)**2 / f_exp\n",
      "/home/stephen/miniconda3/lib/python3.9/site-packages/scipy/stats/_stats_py.py:6776: RuntimeWarning: invalid value encountered in divide\n",
      "  terms = (f_obs_float - f_exp)**2 / f_exp\n"
     ]
    }
   ],
   "source": [
    "df = []\n",
    "for cell in ['HB2', 'GM12878', 'H1hESC', 'IMR90']:\n",
    "    files = glob.glob(f'../../{cell}/alleleGRCh37/dat/snpsplit/merged/*chromCounts*')\n",
    "    for file in files:\n",
    "        if 'HB2_TSS_KO' in file:\n",
    "            continue\n",
    "        data = readIDX(file)\n",
    "        data['cell'] = formatCell(cell)\n",
    "        data['allele'] = Path(file).name.split('-')[0][-1]\n",
    "        if cell == 'H1hESC':\n",
    "            data.loc[~data['chrom'].isin(autosomes), 'count'] = np.nan\n",
    "        elif cell == 'HB2':\n",
    "            data.loc[~data['chrom'].isin(capturechroms), 'count'] = np.nan\n",
    "        df.append(data)\n",
    "df = pd.concat(df)\n",
    "\n",
    "validChroms = [f'chr{c}' for c in range(22 + 1)] + ['chrX']\n",
    "\n",
    "df = df.loc[df['chrom'].isin(allchroms)]\n",
    "\n",
    "df = (\n",
    "    df.groupby(['cell', 'allele', 'chrom'])['count']\n",
    "    .sum()\n",
    "    .reset_index()\n",
    "    .pivot(index=['cell', 'chrom'], columns='allele')\n",
    ")\n",
    "\n",
    "df['ratio'] = df.apply(getRatio, axis=1)\n",
    "df['Total Reads'] = df.apply(getSum, axis=1)\n",
    "df['chisq'] = df.apply(getChiStat, axis=1)\n",
    "df['p'] = df.apply(getChiP, axis=1)"
   ]
  },
  {
   "cell_type": "code",
   "execution_count": 169,
   "id": "2a5b25e4",
   "metadata": {},
   "outputs": [
    {
     "data": {
      "image/png": "[encoded data removed]",
      "text/plain": [
       "<Figure size 510.236x255.118 with 2 Axes>"
      ]
     },
     "metadata": {},
     "output_type": "display_data"
    }
   ],
   "source": [
    "ratioHeatmap = (\n",
    "    df.reset_index()\n",
    "    .pivot(index='chrom', columns='cell', values='ratio')\n",
    "    .reindex(allchroms)[cells]\n",
    ")\n",
    "defaultPlotting(width=180, ratio=0.5)\n",
    "fig, ax = plt.subplots()\n",
    "sns.heatmap(\n",
    "    ratioHeatmap, yticklabels=1, vmin=1, cmap='Reds', \n",
    "    cbar_kws={'label': 'Ratio of Allelic Read Counts'}, ax=ax)\n",
    "ax.set_facecolor('gray')\n",
    "ax.set_xlabel('')\n",
    "ax.set_ylabel('')\n",
    "fig.tight_layout()"
   ]
  },
  {
   "cell_type": "code",
   "execution_count": 168,
   "id": "581df34e",
   "metadata": {},
   "outputs": [
    {
     "data": {
      "text/html": [
       "<div>\n",
       "<style scoped>\n",
       "    .dataframe tbody tr th:only-of-type {\n",
       "        vertical-align: middle;\n",
       "    }\n",
       "\n",
       "    .dataframe tbody tr th {\n",
       "        vertical-align: top;\n",
       "    }\n",
       "\n",
       "    .dataframe thead tr th {\n",
       "        text-align: left;\n",
       "    }\n",
       "\n",
       "    .dataframe thead tr:last-of-type th {\n",
       "        text-align: right;\n",
       "    }\n",
       "</style>\n",
       "<table border=\"1\" class=\"dataframe\">\n",
       "  <thead>\n",
       "    <tr>\n",
       "      <th></th>\n",
       "      <th></th>\n",
       "      <th colspan=\"2\" halign=\"left\">count</th>\n",
       "      <th>ratio</th>\n",
       "      <th>Total Reads</th>\n",
       "      <th>chisq</th>\n",
       "      <th>p</th>\n",
       "    </tr>\n",
       "    <tr>\n",
       "      <th></th>\n",
       "      <th>allele</th>\n",
       "      <th>1</th>\n",
       "      <th>2</th>\n",
       "      <th></th>\n",
       "      <th></th>\n",
       "      <th></th>\n",
       "      <th></th>\n",
       "    </tr>\n",
       "    <tr>\n",
       "      <th>cell</th>\n",
       "      <th>chrom</th>\n",
       "      <th></th>\n",
       "      <th></th>\n",
       "      <th></th>\n",
       "      <th></th>\n",
       "      <th></th>\n",
       "      <th></th>\n",
       "    </tr>\n",
       "  </thead>\n",
       "  <tbody>\n",
       "  </tbody>\n",
       "</table>\n",
       "</div>"
      ],
      "text/plain": [
       "Empty DataFrame\n",
       "Columns: [(count, 1), (count, 2), (ratio, ), (Total Reads, ), (chisq, ), (p, )]\n",
       "Index: []"
      ]
     },
     "execution_count": 168,
     "metadata": {},
     "output_type": "execute_result"
    }
   ],
   "source": [
    "df.loc[df['p'] < 0]"
   ]
  },
  {
   "cell_type": "code",
   "execution_count": null,
   "id": "97915b04",
   "metadata": {},
   "outputs": [],
   "source": []
  }
 ],
 "metadata": {
  "kernelspec": {
   "display_name": "Python 3 (ipykernel)",
   "language": "python",
   "name": "python3"
  },
  "language_info": {
   "codemirror_mode": {
    "name": "ipython",
    "version": 3
   },
   "file_extension": ".py",
   "mimetype": "text/x-python",
   "name": "python",
   "nbconvert_exporter": "python",
   "pygments_lexer": "ipython3",
   "version": "3.9.7"
  }
 },
 "nbformat": 4,
 "nbformat_minor": 5
}
