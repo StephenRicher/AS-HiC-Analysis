{
 "cells": [
  {
   "cell_type": "markdown",
   "metadata": {},
   "source": [
    "### Process ASTADs"
   ]
  },
  {
   "cell_type": "code",
   "execution_count": 1,
   "metadata": {},
   "outputs": [],
   "source": [
    "import sys\n",
    "sys.path.append(\"..\")\n",
    "from utilities import defaultPlotting, processBlacklist\n",
    "import os\n",
    "import glob\n",
    "import pandas as pd\n",
    "import seaborn as sns\n",
    "import matplotlib.pyplot as plt\n",
    "from pybedtools import BedTool\n",
    "from statsmodels.stats.multitest import fdrcorrection"
   ]
  },
  {
   "cell_type": "code",
   "execution_count": 2,
   "metadata": {},
   "outputs": [],
   "source": [
    "def readCNV(cell):\n",
    "    names = {'chrom': str, 'start': int, 'end': int, 'status': str}\n",
    "    cnv = pd.read_csv(\n",
    "        f'../0.processCNV/{cell}-CNV-UCSC.bed', \n",
    "        names=names.keys(), dtype=names,\n",
    "        usecols=[0,1,2,3], skiprows=2, sep='\\t')\n",
    "    return cnv"
   ]
  },
  {
   "cell_type": "code",
   "execution_count": 3,
   "metadata": {},
   "outputs": [],
   "source": [
    "def processCNVoverlap(cell, allTADs):\n",
    "    cnv = readCNV(cell)\n",
    "    # Retrieve CNV status for each TAD (a TAD may overlap multiple CNVs)\n",
    "    allTADs_bed = BedTool.from_dataframe(allTADs[['chrom', 'start', 'end']])\n",
    "    cnvOverlap = []\n",
    "    for status, df in cnv.groupby('status'):\n",
    "        bed = BedTool.from_dataframe(df).merge()\n",
    "        overlap = allTADs_bed.intersect(bed, wo=True).to_dataframe()\n",
    "        overlap['CNV'] = status\n",
    "        cnvOverlap.append(overlap)\n",
    "    # Sum total CNV overlap (if multiple CNVs overlap we will pick the largest overlap)\n",
    "    cnvOverlap = pd.concat(cnvOverlap).rename({'thickStart': 'overlap'}, axis=1)\n",
    "    cnvOverlap = cnvOverlap.groupby(['chrom', 'start', 'end', 'CNV'])['overlap'].sum().reset_index()\n",
    "\n",
    "    # Retrieve TADs that ONLY overlap Normal CNV\n",
    "    # A TAD is ONLY considered normal if ALL of it overlaps Normal CNV\n",
    "    normalOnly = (\n",
    "        cnvOverlap.groupby(['chrom', 'start', 'end'])['CNV']\n",
    "        .apply(lambda x: x.unique()[0] == 'Normal').reset_index())\n",
    "    normalOnly = normalOnly.rename({'CNV': 'Normal'}, axis=1)\n",
    "\n",
    "    # Add Normal overlap to cnvData\n",
    "    cnvOverlap = pd.merge(\n",
    "        cnvOverlap, normalOnly, \n",
    "        left_on=['chrom', 'start', 'end'], right_on=['chrom', 'start', 'end'])\n",
    "\n",
    "    # For non-Normal TADs remove records of Normal overlap\n",
    "    # Because we want to find the biggest non-Normal overlapped CNV\n",
    "    cnvOverlap = cnvOverlap.loc[(cnvOverlap['Normal']) | (cnvOverlap['CNV'] != 'Normal')]\n",
    "\n",
    "    # Sort by overlap and drop duplicate intervals, i.e. get CNV status with largest overlap per TAD\n",
    "    cnvOverlap = cnvOverlap.sort_values('overlap', ascending=False).drop_duplicates(['chrom', 'start', 'end'])\n",
    "    \n",
    "    return cnvOverlap.drop(['overlap', 'Normal'], axis=1)"
   ]
  },
  {
   "cell_type": "code",
   "execution_count": 5,
   "metadata": {},
   "outputs": [],
   "source": [
    "name = 'ASTAD'\n",
    "autosomes = [f'chr{chrom}' for chrom in range(1, 22+1)]\n",
    "\n",
    "cols = ['chrom', 'start', 'end', 'type', 'z', 'direction', 'CNV']\n",
    "USCSCcols = ['chrom', 'start', 'end', 'type', 'score', 'strand', 'start', 'end', 'colour']\n",
    "excelCols = ['cell', 'chrom', 'start', 'end', 'type', 'z', 'CNV', 'High_Signal_Region', 'Low_Mappability']"
   ]
  },
  {
   "cell_type": "code",
   "execution_count": 6,
   "metadata": {},
   "outputs": [],
   "source": [
    "threshold = 2"
   ]
  },
  {
   "cell_type": "code",
   "execution_count": 7,
   "metadata": {},
   "outputs": [],
   "source": [
    "allData = []\n",
    "cells = ['GM12878', 'IMR90', 'H1hESC']\n",
    "with pd.ExcelWriter(f'allTADstats.xlsx') as writer:\n",
    "    for cell in cells:\n",
    "        allFiles = glob.glob(\n",
    "            f'../../{cell}/alleleGRCh37/dat/tads/*/20000/{cell}_a1-vs-{cell}_a2-*-20000-adjIF1-SNPsplit.pkl')\n",
    "        allTADs = pd.concat([pd.read_pickle(file) for file in allFiles]).reset_index(drop=True)\n",
    "\n",
    "        # Compute autosomal mean and std\n",
    "        autosomesMean = (\n",
    "            allTADs[['chrom', 'size', 'mean', 'std']]\n",
    "            .drop_duplicates()\n",
    "            .groupby('size')[['mean', 'std']]\n",
    "            .mean()\n",
    "        )\n",
    "\n",
    "        xOnly = allTADs.loc[~allTADs['chrom'].isin(autosomes)]\n",
    "\n",
    "        # Update mean and std for X with autosomal values\n",
    "        xOnly = pd.merge(xOnly.drop(['mean', 'std'], axis=1), autosomesMean, left_on='size', right_on='size')\n",
    "        xOnly['z'] = (xOnly['sumDiff'] - xOnly['mean']) / xOnly['std']\n",
    "\n",
    "        # Update full data with recomputed X chromosome\n",
    "        allTADs = pd.concat([allTADs.loc[allTADs['chrom'].isin(autosomes)], xOnly]).reset_index(drop=True)\n",
    "        \n",
    "        # Add CNV information\n",
    "        cnvOverlap = processCNVoverlap(cell, allTADs)\n",
    "        allTADs = pd.merge(\n",
    "            allTADs, cnvOverlap, \n",
    "            left_on=['chrom', 'start', 'end'], \n",
    "            right_on=['chrom', 'start', 'end'], how='left')\n",
    "        allTADs['CNV'] = allTADs['CNV'].fillna('Unknown')\n",
    "        \n",
    "        allTADs = processBlacklist(allTADs)\n",
    "        allTADs['High_Signal_Region'] = allTADs['High_Signal_Region'].fillna(0)\n",
    "        allTADs['Low_Mappability'] = allTADs['Low_Mappability'].fillna(0)\n",
    "        \n",
    "        allTADs['rank'] = allTADs['z'].rank(pct=True)\n",
    "        allTADs['score'] = allTADs['rank'] * 1000\n",
    "        allTADs['diffTAD'] = allTADs['z'] > threshold\n",
    "        allTADs['type'] = allTADs['diffTAD'].apply(lambda x: name if x else f'non-{name}')\n",
    "        allTADs['cell'] = cell\n",
    "        \n",
    "        allTADs[excelCols].to_excel(writer, sheet_name=cell, index=False)\n",
    "        allData.append(allTADs.copy())\n",
    "\n",
    "        allTADs.to_pickle(f'{cell}-allTAD.pkl')\n",
    "        \n",
    "        allTADs['direction'] = '+'\n",
    "        \n",
    "        valid = (\n",
    "            (allTADs['High_Signal_Region'] == 0) \n",
    "            & (allTADs['Low_Mappability'] == 0) \n",
    "            & (allTADs['CNV'] == 'Normal'))\n",
    "        filtered = allTADs.loc[valid]\n",
    "        # Write unmerged data with FDR and p values to BED format file\n",
    "        filtered.sort_values(['chrom', 'start']).to_csv(f'{cell}-TADs-allTAD.bed', \n",
    "                    sep='\\t', index=False, header=False, columns=cols)\n",
    "\n",
    "        filtered.loc[allTADs['type']=='ASTAD'].sort_values(['chrom', 'start']).to_csv(f'{cell}-ASTADs-allTAD.bed', \n",
    "                    sep='\\t', index=False, header=False, columns=cols)\n",
    "\n",
    "        autosomeTADs = filtered.loc[filtered['chrom'].isin(autosomes)]\n",
    "        autosomeTADs.sort_values(['chrom', 'start']).to_csv(f'{cell}-TADs-autosome.bed', \n",
    "                    sep='\\t', index=False, header=False, columns=cols)\n",
    "\n",
    "        (autosomeTADs.loc[(autosomeTADs['type']==name)]\n",
    "         .sort_values(['chrom', 'start'])\n",
    "         .to_csv(f'{cell}-ASTADs-autosome.bed', sep='\\t', \n",
    "             index=False, header=False, columns=cols))\n",
    "\n",
    "        allTADs['strand'] = '.'\n",
    "        allTADs['colour'] = allTADs['diffTAD'].apply(lambda x: '253,192,134' if x else '211,211,211')\n",
    "        with open(f'{cell}-allTAD-UCSC.bed', mode='w') as fh:\n",
    "            print(f'track name=\"{cell}_TADs\" '\n",
    "                  f'description=\"{cell}: TADs by Allele Specificity, '\n",
    "                  f'db=hg19 visibility=4 useScore=\"On\"', file=fh)\n",
    "            print('browser position chr14:97000000-103000000', file=fh)\n",
    "            allTADs[USCSCcols].to_csv(fh, index=False, header=False, sep='\\t')\n",
    "\n",
    "        with open(f'{cell}-ASTADs-UCSC.bed', mode='w') as fh:\n",
    "            print(f'track name=\"{cell}_ASTADs\" '\n",
    "                  f'description=\"{cell}: ASTADs by Allele Specificity\" '\n",
    "                  f'db=hg19 visibility=4 useScore=\"On\"', file=fh)\n",
    "            print('browser position chr14:97000000-103000000', file=fh)\n",
    "            allTADs.loc[allTADs['diffTAD'], USCSCcols].to_csv(fh, index=False, header=False, sep='\\t')\n",
    "\n",
    "allData = pd.concat(allData).reset_index(drop=True)\n",
    "allData.to_pickle('allTADdomainData.pkl')"
   ]
  },
  {
   "cell_type": "code",
   "execution_count": 10,
   "metadata": {},
   "outputs": [
    {
     "data": {
      "image/png": "[encoded data removed]",
      "text/plain": [
       "<Figure size 510.236x255.118 with 1 Axes>"
      ]
     },
     "metadata": {},
     "output_type": "display_data"
    }
   ],
   "source": [
    "defaultPlotting()\n",
    "allData['Autosome'] = allData['chrom'] != 'chrX'\n",
    "\n",
    "fig, ax = plt.subplots()\n",
    "sns.histplot(\n",
    "    data=allData.loc[allData['cell']=='GM12878'], x='rank', hue='Autosome', stat='probability', \n",
    "    common_norm=False, ax=ax)\n",
    "ax.set_xlabel('Allele Specific TAD Percentile Rank')\n",
    "fig.savefig(f'{cell}-ASTAD-chrX-ranking.svg')"
   ]
  },
  {
   "cell_type": "code",
   "execution_count": 14,
   "metadata": {},
   "outputs": [
    {
     "data": {
      "text/plain": [
       "<AxesSubplot:xlabel='CNV', ylabel='z'>"
      ]
     },
     "execution_count": 14,
     "metadata": {},
     "output_type": "execute_result"
    },
    {
     "data": {
      "image/png": "[encoded data removed]",
      "text/plain": [
       "<Figure size 432x288 with 1 Axes>"
      ]
     },
     "metadata": {
      "needs_background": "light"
     },
     "output_type": "display_data"
    }
   ],
   "source": [
    "sns.violinplot(data=allData.loc[allData['cell']=='GM12878'], x='CNV', y='z')"
   ]
  },
  {
   "cell_type": "code",
   "execution_count": 13,
   "metadata": {},
   "outputs": [
    {
     "data": {
      "text/plain": [
       "CNV\n",
       "Deletion    1124\n",
       "Gain         947\n",
       "Loss        1492\n",
       "Normal      4938\n",
       "Unknown      293\n",
       "dtype: int64"
      ]
     },
     "execution_count": 13,
     "metadata": {},
     "output_type": "execute_result"
    }
   ],
   "source": [
    "allData.loc[allData['cell']=='GM12878'].groupby('CNV').size()"
   ]
  },
  {
   "cell_type": "code",
   "execution_count": null,
   "metadata": {},
   "outputs": [],
   "source": []
  }
 ],
 "metadata": {
  "kernelspec": {
   "display_name": "Python 3 (ipykernel)",
   "language": "python",
   "name": "python3"
  },
  "language_info": {
   "codemirror_mode": {
    "name": "ipython",
    "version": 3
   },
   "file_extension": ".py",
   "mimetype": "text/x-python",
   "name": "python",
   "nbconvert_exporter": "python",
   "pygments_lexer": "ipython3",
   "version": "3.9.7"
  }
 },
 "nbformat": 4,
 "nbformat_minor": 4
}
