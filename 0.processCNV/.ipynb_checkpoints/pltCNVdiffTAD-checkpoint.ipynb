{
 "cells": [
  {
   "cell_type": "code",
   "execution_count": 6,
   "metadata": {},
   "outputs": [],
   "source": [
    "import sys\n",
    "sys.path.append('..')\n",
    "from utilities import readDiffTAD, formatCell\n",
    "import numpy as np\n",
    "import pandas as pd\n",
    "import seaborn as sns\n",
    "import matplotlib.pyplot as plt\n",
    "from scipy.ndimage import interpolation"
   ]
  },
  {
   "cell_type": "code",
   "execution_count": 2,
   "metadata": {},
   "outputs": [],
   "source": [
    "plt.rcParams['font.size'] = 16"
   ]
  },
  {
   "cell_type": "code",
   "execution_count": 3,
   "metadata": {},
   "outputs": [],
   "source": [
    "def setStatus(x):\n",
    "    if x == 'Normal':\n",
    "        return 0\n",
    "    elif x == 'Loss':\n",
    "        return -1\n",
    "    elif x == 'Deletion':\n",
    "        return -2\n",
    "    elif x == 'Gain':\n",
    "        return 1\n",
    "    elif x == 'Amplification':\n",
    "        return 2\n",
    "    else:\n",
    "        raise ValueError"
   ]
  },
  {
   "cell_type": "code",
   "execution_count": 4,
   "metadata": {},
   "outputs": [],
   "source": [
    "cell = 'GM12878'"
   ]
  },
  {
   "cell_type": "code",
   "execution_count": 7,
   "metadata": {},
   "outputs": [],
   "source": [
    "names = {'chrom': str, 'start': int, 'end': int, 'cnv': 'str'}\n",
    "df = pd.read_csv(\n",
    "    f'{cell}-CNV-UCSC.bed', names=names.keys(), dtype=names, \n",
    "    usecols=[0,1,2,3], skiprows=2, sep='\\t')\n",
    "df['status'] = df['cnv'].apply(setStatus)"
   ]
  },
  {
   "cell_type": "code",
   "execution_count": 10,
   "metadata": {},
   "outputs": [],
   "source": [
    "diffTADs = readDiffTAD('GM12878', diffOnly=True, X=False)"
   ]
  },
  {
   "cell_type": "code",
   "execution_count": 12,
   "metadata": {},
   "outputs": [
    {
     "data": {
      "text/html": [
       "<div>\n",
       "<style scoped>\n",
       "    .dataframe tbody tr th:only-of-type {\n",
       "        vertical-align: middle;\n",
       "    }\n",
       "\n",
       "    .dataframe tbody tr th {\n",
       "        vertical-align: top;\n",
       "    }\n",
       "\n",
       "    .dataframe thead th {\n",
       "        text-align: right;\n",
       "    }\n",
       "</style>\n",
       "<table border=\"1\" class=\"dataframe\">\n",
       "  <thead>\n",
       "    <tr style=\"text-align: right;\">\n",
       "      <th></th>\n",
       "      <th>chrom</th>\n",
       "      <th>start</th>\n",
       "      <th>end</th>\n",
       "      <th>type</th>\n",
       "      <th>direction</th>\n",
       "    </tr>\n",
       "  </thead>\n",
       "  <tbody>\n",
       "    <tr>\n",
       "      <th>12</th>\n",
       "      <td>chr1</td>\n",
       "      <td>85410000</td>\n",
       "      <td>85530000</td>\n",
       "      <td>ASTAD</td>\n",
       "      <td>1</td>\n",
       "    </tr>\n",
       "    <tr>\n",
       "      <th>29</th>\n",
       "      <td>chr1</td>\n",
       "      <td>14150000</td>\n",
       "      <td>14290000</td>\n",
       "      <td>ASTAD</td>\n",
       "      <td>1</td>\n",
       "    </tr>\n",
       "    <tr>\n",
       "      <th>30</th>\n",
       "      <td>chr1</td>\n",
       "      <td>25710000</td>\n",
       "      <td>25850000</td>\n",
       "      <td>ASTAD</td>\n",
       "      <td>1</td>\n",
       "    </tr>\n",
       "    <tr>\n",
       "      <th>59</th>\n",
       "      <td>chr1</td>\n",
       "      <td>31870000</td>\n",
       "      <td>32030000</td>\n",
       "      <td>ASTAD</td>\n",
       "      <td>1</td>\n",
       "    </tr>\n",
       "    <tr>\n",
       "      <th>60</th>\n",
       "      <td>chr1</td>\n",
       "      <td>34910000</td>\n",
       "      <td>35070000</td>\n",
       "      <td>ASTAD</td>\n",
       "      <td>1</td>\n",
       "    </tr>\n",
       "    <tr>\n",
       "      <th>...</th>\n",
       "      <td>...</td>\n",
       "      <td>...</td>\n",
       "      <td>...</td>\n",
       "      <td>...</td>\n",
       "      <td>...</td>\n",
       "    </tr>\n",
       "    <tr>\n",
       "      <th>8478</th>\n",
       "      <td>chr9</td>\n",
       "      <td>133930000</td>\n",
       "      <td>135870000</td>\n",
       "      <td>ASTAD</td>\n",
       "      <td>1</td>\n",
       "    </tr>\n",
       "    <tr>\n",
       "      <th>8485</th>\n",
       "      <td>chr9</td>\n",
       "      <td>136370000</td>\n",
       "      <td>138710000</td>\n",
       "      <td>ASTAD</td>\n",
       "      <td>1</td>\n",
       "    </tr>\n",
       "    <tr>\n",
       "      <th>8489</th>\n",
       "      <td>chr9</td>\n",
       "      <td>133290000</td>\n",
       "      <td>135870000</td>\n",
       "      <td>ASTAD</td>\n",
       "      <td>1</td>\n",
       "    </tr>\n",
       "    <tr>\n",
       "      <th>8493</th>\n",
       "      <td>chr9</td>\n",
       "      <td>135870000</td>\n",
       "      <td>138710000</td>\n",
       "      <td>ASTAD</td>\n",
       "      <td>1</td>\n",
       "    </tr>\n",
       "    <tr>\n",
       "      <th>8498</th>\n",
       "      <td>chr9</td>\n",
       "      <td>135870000</td>\n",
       "      <td>139210000</td>\n",
       "      <td>ASTAD</td>\n",
       "      <td>1</td>\n",
       "    </tr>\n",
       "  </tbody>\n",
       "</table>\n",
       "<p>872 rows × 5 columns</p>\n",
       "</div>"
      ],
      "text/plain": [
       "     chrom      start        end   type  direction\n",
       "12    chr1   85410000   85530000  ASTAD          1\n",
       "29    chr1   14150000   14290000  ASTAD          1\n",
       "30    chr1   25710000   25850000  ASTAD          1\n",
       "59    chr1   31870000   32030000  ASTAD          1\n",
       "60    chr1   34910000   35070000  ASTAD          1\n",
       "...    ...        ...        ...    ...        ...\n",
       "8478  chr9  133930000  135870000  ASTAD          1\n",
       "8485  chr9  136370000  138710000  ASTAD          1\n",
       "8489  chr9  133290000  135870000  ASTAD          1\n",
       "8493  chr9  135870000  138710000  ASTAD          1\n",
       "8498  chr9  135870000  139210000  ASTAD          1\n",
       "\n",
       "[872 rows x 5 columns]"
      ]
     },
     "execution_count": 12,
     "metadata": {},
     "output_type": "execute_result"
    }
   ],
   "source": [
    "diffTADs"
   ]
  },
  {
   "cell_type": "code",
   "execution_count": 13,
   "metadata": {},
   "outputs": [],
   "source": [
    "width = 1\n",
    "domainSize = 10\n",
    "size = domainSize * ((width * 2) + 1)\n",
    "allDiffTAD = []\n",
    "\n",
    "for i, chrom, start, end, name, direction in diffTADs.itertuples():\n",
    "    sub = df.loc[df['chrom'] == chrom]\n",
    "    idxs = list(sub[sub['start'].between(start, end)].index)\n",
    "    \n",
    "    # Get number of indexes with domain\n",
    "    idxRange = idxs[-1] - idxs[0]\n",
    "    minIdx = idxs[0] - (idxRange * width)\n",
    "    maxIdx = idxs[-1] + (idxRange * width)\n",
    "    \n",
    "    # Get domain +/- 1 domain length\n",
    "    domain = sub[sub.index.isin(list(range(minIdx, maxIdx)))]\n",
    "    zoom = size / len(domain['status'])\n",
    "    allDiffTAD.append(interpolation.zoom(domain['status'], zoom))\n",
    "allDiffTAD = np.array(allDiffTAD).astype(int)"
   ]
  },
  {
   "cell_type": "code",
   "execution_count": 14,
   "metadata": {},
   "outputs": [],
   "source": [
    "boundary = [None] * (width * domainSize - 1)\n",
    "internal = ['|'] + ([None] * (domainSize - 2)) + ['|']\n",
    "xTicks = [str(-width)] + boundary + internal + boundary + [str(-width)]\n",
    "yTicks = [None for x in range(len(diffTADs))]"
   ]
  },
  {
   "cell_type": "code",
   "execution_count": 15,
   "metadata": {},
   "outputs": [
    {
     "data": {
      "image/png": "[encoded data removed]",
      "text/plain": [
       "<Figure size 1152x648 with 2 Axes>"
      ]
     },
     "metadata": {
      "needs_background": "light"
     },
     "output_type": "display_data"
    }
   ],
   "source": [
    "# Sort array for visualisation purpose\n",
    "sortedIdx = np.argsort(allDiffTAD.mean(axis=1))[::-1]\n",
    "\n",
    "fig, ax = plt.subplots(figsize=(16,9))\n",
    "sns.heatmap(\n",
    "    allDiffTAD[sortedIdx], xticklabels=xTicks, yticklabels=yTicks, \n",
    "    cmap=sns.color_palette('bwr', 5), vmin=-2, vmax=2, center=0, ax=ax)\n",
    "ax.tick_params(left=True, bottom=False)\n",
    "ax.axvline(10.5, color='black', ls='--')\n",
    "ax.axvline(19.5, color='black', ls='--')\n",
    "ax.set_xlabel('Scaled Position Along Differential Domain')\n",
    "\n",
    "vmap = {-2: 'Deletion', -1: 'Loss', 0: 'Normal', 1: 'Gain', 2: 'Amplification'}\n",
    "n = len(vmap)\n",
    "\n",
    "# Get the colorbar object from the Seaborn heatmap\n",
    "colorbar = ax.collections[0].colorbar\n",
    "# The list comprehension calculates the positions to place the labels to be evenly distributed across the colorbar\n",
    "r = colorbar.vmax - colorbar.vmin\n",
    "colorbar.set_ticks([colorbar.vmin + 0.5 * r / (n) + r * i / (n) for i in range(n)])\n",
    "colorbar.set_ticklabels(list(vmap.values()))\n",
    "fig.savefig(f'{cell}-CNVstatus.svg')"
   ]
  },
  {
   "cell_type": "code",
   "execution_count": null,
   "metadata": {},
   "outputs": [],
   "source": []
  }
 ],
 "metadata": {
  "kernelspec": {
   "display_name": "Python 3",
   "language": "python",
   "name": "python3"
  },
  "language_info": {
   "codemirror_mode": {
    "name": "ipython",
    "version": 3
   },
   "file_extension": ".py",
   "mimetype": "text/x-python",
   "name": "python",
   "nbconvert_exporter": "python",
   "pygments_lexer": "ipython3",
   "version": "3.7.3"
  }
 },
 "nbformat": 4,
 "nbformat_minor": 4
}
