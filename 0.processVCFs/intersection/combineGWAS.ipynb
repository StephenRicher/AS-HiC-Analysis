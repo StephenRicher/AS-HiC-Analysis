{
 "cells": [
  {
   "cell_type": "code",
   "execution_count": 4,
   "metadata": {},
   "outputs": [],
   "source": [
    "import pandas as pd"
   ]
  },
  {
   "cell_type": "code",
   "execution_count": 53,
   "metadata": {},
   "outputs": [],
   "source": [
    "names = {'chrom': str, 'start': int, 'ID': int}\n",
    "gwasIDs = pd.read_csv(\n",
    "    'gwasOverlapVar.bed', usecols=[0,1,3], names=names.keys(), \n",
    "    dtype=names, sep='\\t')"
   ]
  },
  {
   "cell_type": "code",
   "execution_count": 54,
   "metadata": {},
   "outputs": [],
   "source": [
    "gwas = pd.read_csv(\n",
    "    '../../ABCdisease/gwas_catalog_v1.0-associations_e104_r2021-11-22.tsv.gz', \n",
    "    usecols=[7], sep='\\t').reset_index().rename({'index': 'ID'}, axis=1)"
   ]
  },
  {
   "cell_type": "code",
   "execution_count": 55,
   "metadata": {},
   "outputs": [],
   "source": [
    "gwas = pd.merge(gwasIDs, gwas, left_on='ID', right_on='ID').drop(['ID'], axis=1)\n",
    "gwas = gwas.groupby(['chrom', 'start'])['DISEASE/TRAIT'].apply(list).reset_index()"
   ]
  },
  {
   "cell_type": "code",
   "execution_count": 56,
   "metadata": {},
   "outputs": [],
   "source": [
    "sharedVCF = pd.read_csv('sharedVCF.tsv', sep='\\t').rename({'#chrom': 'chrom'}, axis=1)"
   ]
  },
  {
   "cell_type": "code",
   "execution_count": 59,
   "metadata": {},
   "outputs": [],
   "source": [
    "sharedVCF = pd.merge(sharedVCF, gwas, left_on=['chrom', 'pos'], right_on=['chrom', 'start'], how='left').drop('start', axis=1)"
   ]
  },
  {
   "cell_type": "code",
   "execution_count": 66,
   "metadata": {},
   "outputs": [],
   "source": [
    "sharedVCF.to_csv('sharedVCF-withGWAS.tsv', index=False, sep='\\t')"
   ]
  }
 ],
 "metadata": {
  "kernelspec": {
   "display_name": "Python 3",
   "language": "python",
   "name": "python3"
  },
  "language_info": {
   "codemirror_mode": {
    "name": "ipython",
    "version": 3
   },
   "file_extension": ".py",
   "mimetype": "text/x-python",
   "name": "python",
   "nbconvert_exporter": "python",
   "pygments_lexer": "ipython3",
   "version": "3.7.3"
  }
 },
 "nbformat": 4,
 "nbformat_minor": 4
}
