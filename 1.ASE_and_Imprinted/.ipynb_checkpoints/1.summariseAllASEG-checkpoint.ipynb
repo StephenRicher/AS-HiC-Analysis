{
 "cells": [
  {
   "cell_type": "code",
   "execution_count": 1,
   "metadata": {},
   "outputs": [],
   "source": [
    "import sys\n",
    "sys.path.append(\"..\")\n",
    "import pandas as pd\n",
    "from pybedtools import BedTool\n",
    "from utilities import readDiffTAD, formatCell"
   ]
  },
  {
   "cell_type": "code",
   "execution_count": 2,
   "metadata": {},
   "outputs": [],
   "source": [
    "def jaccard(x):\n",
    "    intersection = len(range(max(x['start'], x['thickStart']), min(x['end'], x['thickEnd']) + 1))\n",
    "    union = ((x['end'] - x['start']) + (x['thickEnd'] - x['thickStart'])) - intersection\n",
    "    return float(intersection) / union"
   ]
  },
  {
   "cell_type": "code",
   "execution_count": 3,
   "metadata": {},
   "outputs": [],
   "source": [
    "gencodeV38 = pd.read_pickle('gencode.v38lift37-geneStatus.pkl')"
   ]
  },
  {
   "cell_type": "code",
   "execution_count": 4,
   "metadata": {},
   "outputs": [],
   "source": [
    "allTads = ({\n",
    "    'GM12878': readDiffTAD('GM12878',X=True, pyBed=True),\n",
    "    'IMR90': readDiffTAD('IMR90', X=True, pyBed=True),\n",
    "    'H1hESC': readDiffTAD('H1hESC', X=True, pyBed=True),\n",
    "})"
   ]
  },
  {
   "cell_type": "code",
   "execution_count": 5,
   "metadata": {},
   "outputs": [],
   "source": [
    "allGenes = BedTool.from_dataframe(gencodeV38[['chrom', 'start', 'end', 'ID']])"
   ]
  },
  {
   "cell_type": "code",
   "execution_count": 17,
   "metadata": {},
   "outputs": [],
   "source": [
    "allData = []\n",
    "for cell, tads in allTads.items():\n",
    "    cell = formatCell(cell)\n",
    "    tadGeneOverlap = tads.intersect(allGenes, wa=True, wb=True).to_dataframe()\n",
    "    topJaccard = (\n",
    "        tadGeneOverlap.groupby('blockStarts')['score']\n",
    "        .max()\n",
    "        .reset_index()\n",
    "        .rename({'blockStarts': 'ID', 'score': f'TAD Score ({cell})'}, axis=1)\n",
    "    )\n",
    "    allData.append(topJaccard)\n",
    "geneScores = pd.merge(allData[0], allData[1], left_on='ID', right_on='ID')\n",
    "geneScores = pd.merge(geneScores, allData[2], left_on='ID', right_on='ID')\n",
    "\n",
    "gencodeV38 = pd.merge(gencodeV38, geneScores, left_on='ID', right_on='ID', how='left')"
   ]
  },
  {
   "cell_type": "code",
   "execution_count": 18,
   "metadata": {},
   "outputs": [],
   "source": [
    "# Remove non-autosomal\n",
    "gencodeV38 = gencodeV38.loc[~gencodeV38['chrom'].isin(['chrM', 'chrX', 'chrY'])]\n",
    "\n",
    "gencodeV38.to_excel('allGeneStats.xlsx', index=False)\n",
    "gencodeV38.to_pickle('allGeneStats.pkl')"
   ]
  },
  {
   "cell_type": "code",
   "execution_count": null,
   "metadata": {},
   "outputs": [],
   "source": []
  }
 ],
 "metadata": {
  "kernelspec": {
   "display_name": "Python 3",
   "language": "python",
   "name": "python3"
  },
  "language_info": {
   "codemirror_mode": {
    "name": "ipython",
    "version": 3
   },
   "file_extension": ".py",
   "mimetype": "text/x-python",
   "name": "python",
   "nbconvert_exporter": "python",
   "pygments_lexer": "ipython3",
   "version": "3.7.3"
  }
 },
 "nbformat": 4,
 "nbformat_minor": 4
}
