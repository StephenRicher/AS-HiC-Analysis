{
 "cells": [
  {
   "cell_type": "code",
   "execution_count": 6,
   "metadata": {},
   "outputs": [],
   "source": [
    "import numpy as np\n",
    "import pandas as pd\n",
    "from pybedtools import BedTool"
   ]
  },
  {
   "cell_type": "code",
   "execution_count": 79,
   "metadata": {},
   "outputs": [],
   "source": [
    "def getStatus(x):\n",
    "    if x == '255,0,0':\n",
    "        return 'paternal'\n",
    "    elif x == '0,0,255':\n",
    "        return 'maternal'\n",
    "    elif x == '128,128,128':\n",
    "        return 'biallelic'\n",
    "    else:\n",
    "        return 'monoallelic'"
   ]
  },
  {
   "cell_type": "code",
   "execution_count": 80,
   "metadata": {},
   "outputs": [],
   "source": [
    "index = ['chrom', 'start', 'end', 'symbol']"
   ]
  },
  {
   "cell_type": "code",
   "execution_count": 81,
   "metadata": {},
   "outputs": [],
   "source": [
    "gmASEG = 'GM12878-all-GRCh37.bed'\n",
    "\n",
    "names = {'chrom': str, 'start': int, 'end': int, 'symbol': 'str', 'status': 'str'}\n",
    "gm = pd.read_csv(gmASEG, usecols=[0, 1, 2, 3, 8], names=names.keys(), dtype=names, sep='\\t').set_index(index)\n",
    "gm['status'] = gm['status'].apply(getStatus)"
   ]
  },
  {
   "cell_type": "code",
   "execution_count": 82,
   "metadata": {},
   "outputs": [],
   "source": [
    "imASEG = 'IMR90-ASEG-GRCh37.bed'\n",
    "\n",
    "names = {'chrom': str, 'start': int, 'end': int, 'symbol': 'str', 'status': 'str'}\n",
    "im = pd.read_csv(imASEG, usecols=[0, 1, 2, 3, 8], names=names.keys(), dtype=names, sep='\\t').set_index(index)\n",
    "im['status'] = im['status'].apply(getStatus)"
   ]
  },
  {
   "cell_type": "code",
   "execution_count": 83,
   "metadata": {},
   "outputs": [],
   "source": [
    "h1ASEG = 'H1hESC-ASEG-GRCh37.bed'\n",
    "names = {'chrom': str, 'start': int, 'end': int, 'symbol': 'str', 'status': 'str'}\n",
    "h1 = pd.read_csv(h1ASEG, usecols=[0, 1, 2, 3, 8], names=names.keys(), dtype=names, sep='\\t').set_index(index)\n",
    "h1['status'] = h1['status'].apply(getStatus)"
   ]
  },
  {
   "cell_type": "code",
   "execution_count": 84,
   "metadata": {},
   "outputs": [],
   "source": [
    "ase = pd.merge(gm, im, left_index=True, right_index=True, how='outer')\n",
    "ase = (\n",
    "    pd.merge(ase, h1, left_index=True, right_index=True, how='outer')\n",
    "    .rename({'status_x': 'GM12878', 'status_y': 'IMR90', 'status': 'H1hESC'}, axis=1)\n",
    "    .fillna('Unknown')\n",
    "    .reset_index())"
   ]
  },
  {
   "cell_type": "code",
   "execution_count": 85,
   "metadata": {},
   "outputs": [],
   "source": [
    "gmASTAD = '../diffTAD/results/GM12878/alleleGRCh37/GM12878_a1-vs-GM12878_a2-all-20000-SNPsplit_diff_tad-ASTAD.bed'\n",
    "imASTAD = '../diffTAD/results/IMR90/alleleGRCh37/IMR90_a1-vs-IMR90_a2-all-20000-SNPsplit_diff_tad-ASTAD.bed'\n",
    "h1ASTAD = '../diffTAD/results/H1hESC/alleleGRCh37/H1hESC_a1-vs-H1hESC_a2-all-20000-SNPsplit_diff_tad-ASTAD.bed'\n",
    "imprinted = '../ASE_and_Imprinted/Imprinted-GeneImprint-GRCh37.bed'\n",
    "\n",
    "allGenes = BedTool.from_dataframe(ase[['chrom', 'start', 'end', 'symbol']])\n",
    "gmASTAD = set(allGenes.intersect(gmASTAD, wa=True).to_dataframe()['name'])\n",
    "imASTAD = set(allGenes.intersect(imASTAD, wa=True).to_dataframe()['name'])\n",
    "h1ASTAD = set(allGenes.intersect(h1ASTAD, wa=True).to_dataframe()['name'])\n",
    "imprinted = set(allGenes.intersect(imprinted, wa=True).to_dataframe()['name'])"
   ]
  },
  {
   "cell_type": "code",
   "execution_count": 86,
   "metadata": {},
   "outputs": [],
   "source": [
    "ase['GM12878_ASTAD'] = ase['symbol'].isin(gmASTAD)\n",
    "ase['IMR90_ASTAD'] = ase['symbol'].isin(imASTAD)\n",
    "ase['H1_ASTAD'] = ase['symbol'].isin(h1ASTAD)\n",
    "\n",
    "ase['GM12878_ASEG'] = ase['GM12878'].isin(['paternal', 'maternal', 'monoallelic'])\n",
    "ase['IMR90_ASEG'] = ase['IMR90'].isin(['paternal', 'maternal', 'monoallelic'])\n",
    "ase['H1hESC_ASEG'] = ase['H1hESC'].isin(['paternal', 'maternal', 'monoallelic'])\n",
    "\n",
    "ase['Imprinted'] = ase['symbol'].isin(imprinted)"
   ]
  },
  {
   "cell_type": "code",
   "execution_count": 68,
   "metadata": {},
   "outputs": [],
   "source": [
    "ase.to_csv('GM12878-IMR90-ASEG.tsv', index=False, sep='\\t')"
   ]
  },
  {
   "cell_type": "code",
   "execution_count": 72,
   "metadata": {},
   "outputs": [
    {
     "data": {
      "text/html": [
       "<div>\n",
       "<style scoped>\n",
       "    .dataframe tbody tr th:only-of-type {\n",
       "        vertical-align: middle;\n",
       "    }\n",
       "\n",
       "    .dataframe tbody tr th {\n",
       "        vertical-align: top;\n",
       "    }\n",
       "\n",
       "    .dataframe thead th {\n",
       "        text-align: right;\n",
       "    }\n",
       "</style>\n",
       "<table border=\"1\" class=\"dataframe\">\n",
       "  <thead>\n",
       "    <tr style=\"text-align: right;\">\n",
       "      <th></th>\n",
       "      <th>chrom</th>\n",
       "      <th>start</th>\n",
       "      <th>end</th>\n",
       "      <th>symbol</th>\n",
       "      <th>GM12878</th>\n",
       "      <th>IMR90</th>\n",
       "      <th>GM12878_ASTAD</th>\n",
       "      <th>IMR90_ASTAD</th>\n",
       "    </tr>\n",
       "  </thead>\n",
       "  <tbody>\n",
       "    <tr>\n",
       "      <th>87</th>\n",
       "      <td>1</td>\n",
       "      <td>38147242</td>\n",
       "      <td>38157921</td>\n",
       "      <td>C1orf109</td>\n",
       "      <td>biallelic</td>\n",
       "      <td>monoallelic</td>\n",
       "      <td>False</td>\n",
       "      <td>False</td>\n",
       "    </tr>\n",
       "    <tr>\n",
       "      <th>129</th>\n",
       "      <td>1</td>\n",
       "      <td>71528974</td>\n",
       "      <td>71546972</td>\n",
       "      <td>ZRANB2</td>\n",
       "      <td>biallelic</td>\n",
       "      <td>monoallelic</td>\n",
       "      <td>False</td>\n",
       "      <td>False</td>\n",
       "    </tr>\n",
       "    <tr>\n",
       "      <th>155</th>\n",
       "      <td>1</td>\n",
       "      <td>90460669</td>\n",
       "      <td>90501092</td>\n",
       "      <td>ZNF326</td>\n",
       "      <td>biallelic</td>\n",
       "      <td>monoallelic</td>\n",
       "      <td>False</td>\n",
       "      <td>False</td>\n",
       "    </tr>\n",
       "    <tr>\n",
       "      <th>162</th>\n",
       "      <td>1</td>\n",
       "      <td>97187221</td>\n",
       "      <td>97289294</td>\n",
       "      <td>PTBP2</td>\n",
       "      <td>biallelic</td>\n",
       "      <td>monoallelic</td>\n",
       "      <td>False</td>\n",
       "      <td>False</td>\n",
       "    </tr>\n",
       "    <tr>\n",
       "      <th>245</th>\n",
       "      <td>1</td>\n",
       "      <td>162467041</td>\n",
       "      <td>162499421</td>\n",
       "      <td>UHMK1</td>\n",
       "      <td>biallelic</td>\n",
       "      <td>monoallelic</td>\n",
       "      <td>False</td>\n",
       "      <td>False</td>\n",
       "    </tr>\n",
       "    <tr>\n",
       "      <th>...</th>\n",
       "      <td>...</td>\n",
       "      <td>...</td>\n",
       "      <td>...</td>\n",
       "      <td>...</td>\n",
       "      <td>...</td>\n",
       "      <td>...</td>\n",
       "      <td>...</td>\n",
       "      <td>...</td>\n",
       "    </tr>\n",
       "    <tr>\n",
       "      <th>3605</th>\n",
       "      <td>8</td>\n",
       "      <td>33330904</td>\n",
       "      <td>33370703</td>\n",
       "      <td>TTI2</td>\n",
       "      <td>biallelic</td>\n",
       "      <td>monoallelic</td>\n",
       "      <td>False</td>\n",
       "      <td>False</td>\n",
       "    </tr>\n",
       "    <tr>\n",
       "      <th>3644</th>\n",
       "      <td>8</td>\n",
       "      <td>97251626</td>\n",
       "      <td>97273838</td>\n",
       "      <td>MTERF3</td>\n",
       "      <td>biallelic</td>\n",
       "      <td>monoallelic</td>\n",
       "      <td>False</td>\n",
       "      <td>False</td>\n",
       "    </tr>\n",
       "    <tr>\n",
       "      <th>3679</th>\n",
       "      <td>8</td>\n",
       "      <td>128806772</td>\n",
       "      <td>129199347</td>\n",
       "      <td>PVT1</td>\n",
       "      <td>biallelic</td>\n",
       "      <td>monoallelic</td>\n",
       "      <td>False</td>\n",
       "      <td>False</td>\n",
       "    </tr>\n",
       "    <tr>\n",
       "      <th>3718</th>\n",
       "      <td>9</td>\n",
       "      <td>19230433</td>\n",
       "      <td>19374279</td>\n",
       "      <td>DENND4C</td>\n",
       "      <td>biallelic</td>\n",
       "      <td>monoallelic</td>\n",
       "      <td>False</td>\n",
       "      <td>False</td>\n",
       "    </tr>\n",
       "    <tr>\n",
       "      <th>3788</th>\n",
       "      <td>9</td>\n",
       "      <td>123514256</td>\n",
       "      <td>123555694</td>\n",
       "      <td>FBXW2</td>\n",
       "      <td>biallelic</td>\n",
       "      <td>monoallelic</td>\n",
       "      <td>False</td>\n",
       "      <td>False</td>\n",
       "    </tr>\n",
       "  </tbody>\n",
       "</table>\n",
       "<p>66 rows × 8 columns</p>\n",
       "</div>"
      ],
      "text/plain": [
       "     chrom      start        end    symbol    GM12878        IMR90  \\\n",
       "87       1   38147242   38157921  C1orf109  biallelic  monoallelic   \n",
       "129      1   71528974   71546972    ZRANB2  biallelic  monoallelic   \n",
       "155      1   90460669   90501092    ZNF326  biallelic  monoallelic   \n",
       "162      1   97187221   97289294     PTBP2  biallelic  monoallelic   \n",
       "245      1  162467041  162499421     UHMK1  biallelic  monoallelic   \n",
       "...    ...        ...        ...       ...        ...          ...   \n",
       "3605     8   33330904   33370703      TTI2  biallelic  monoallelic   \n",
       "3644     8   97251626   97273838    MTERF3  biallelic  monoallelic   \n",
       "3679     8  128806772  129199347      PVT1  biallelic  monoallelic   \n",
       "3718     9   19230433   19374279   DENND4C  biallelic  monoallelic   \n",
       "3788     9  123514256  123555694     FBXW2  biallelic  monoallelic   \n",
       "\n",
       "      GM12878_ASTAD  IMR90_ASTAD  \n",
       "87            False        False  \n",
       "129           False        False  \n",
       "155           False        False  \n",
       "162           False        False  \n",
       "245           False        False  \n",
       "...             ...          ...  \n",
       "3605          False        False  \n",
       "3644          False        False  \n",
       "3679          False        False  \n",
       "3718          False        False  \n",
       "3788          False        False  \n",
       "\n",
       "[66 rows x 8 columns]"
      ]
     },
     "execution_count": 72,
     "metadata": {},
     "output_type": "execute_result"
    }
   ],
   "source": [
    "ase[(~ase['GM12878_ASTAD']) & (ase['IMR90'] != 'Unknown') & (ase['GM12878'] == 'biallelic')]"
   ]
  },
  {
   "cell_type": "code",
   "execution_count": 38,
   "metadata": {},
   "outputs": [
    {
     "data": {
      "text/plain": [
       "480"
      ]
     },
     "execution_count": 38,
     "metadata": {},
     "output_type": "execute_result"
    }
   ],
   "source": [
    "(allASE['GM12878'] != 'biallelic').sum()"
   ]
  },
  {
   "cell_type": "code",
   "execution_count": null,
   "metadata": {},
   "outputs": [],
   "source": []
  }
 ],
 "metadata": {
  "kernelspec": {
   "display_name": "Python 3",
   "language": "python",
   "name": "python3"
  },
  "language_info": {
   "codemirror_mode": {
    "name": "ipython",
    "version": 3
   },
   "file_extension": ".py",
   "mimetype": "text/x-python",
   "name": "python",
   "nbconvert_exporter": "python",
   "pygments_lexer": "ipython3",
   "version": "3.7.3"
  }
 },
 "nbformat": 4,
 "nbformat_minor": 4
}
