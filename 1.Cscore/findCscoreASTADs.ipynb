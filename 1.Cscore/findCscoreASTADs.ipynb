{
 "cells": [
  {
   "cell_type": "markdown",
   "metadata": {},
   "source": [
    "## Get autosomal A1 / A2 Cscore and compute difference - Normalise to Z-score"
   ]
  },
  {
   "cell_type": "code",
   "execution_count": 1,
   "metadata": {},
   "outputs": [],
   "source": [
    "import sys\n",
    "sys.path.append('..')\n",
    "from utilities import readDiffTAD, processBlacklist\n",
    "import glob\n",
    "import pandas as pd\n",
    "import seaborn as sns\n",
    "from scipy.stats import zscore\n",
    "from pybedtools import BedTool"
   ]
  },
  {
   "cell_type": "code",
   "execution_count": 2,
   "metadata": {},
   "outputs": [],
   "source": [
    "cells = ['GM12878', 'IMR90', 'H1hESC']\n",
    "binSize = 20000\n",
    "threshold = 3\n",
    "validChroms = [f'chr{c}' for c in range(23)]"
   ]
  },
  {
   "cell_type": "code",
   "execution_count": 3,
   "metadata": {},
   "outputs": [],
   "source": [
    "def readCscore(x):\n",
    "    names = {'chrom': str, 'start': int, 'end': int, 'cscore': float}\n",
    "    return pd.read_csv(\n",
    "        x, usecols=[0,1,2,4], names=names.keys(), dtype=names, sep='\\t')"
   ]
  },
  {
   "cell_type": "code",
   "execution_count": 4,
   "metadata": {},
   "outputs": [],
   "source": [
    "allIntersects = {}\n",
    "for cell in cells:\n",
    "    cscores = []\n",
    "    for a in [1, 2]:\n",
    "        files = glob.glob(\n",
    "            f'../../{cell}/alleleGRCh37/dat/Cscore/chr*/{binSize}/{cell}_a{a}-chr*-{binSize}-SNPsplit-Cscore_cscore.bed')\n",
    "        cscore = pd.concat([readCscore(x) for x in files])\n",
    "        cscore = cscore.loc[cscore['chrom'].isin(validChroms)]\n",
    "        cscore = cscore.set_index(['chrom', 'start', 'end']).rename({'cscore': f'a{a}'}, axis=1)\n",
    "        cscores.append(cscore)\n",
    "    cscores = pd.merge(cscores[0], cscores[1], left_index=True, right_index=True)\n",
    "    \n",
    "    cscores['switchSign'] = ((cscores['a1'] * cscores['a2']) < 0).astype(int)\n",
    "\n",
    "    cscores['z'] = zscore(cscores['a1'] - cscores['a2'])\n",
    "    cscores = BedTool.from_dataframe(cscores.reset_index())\n",
    "    \n",
    "    diffTAD = readDiffTAD(cell, diffOnly=False, X=False, pyBed=True)\n",
    "    \n",
    "    names = ([\n",
    "        'chrom', 'start', 'end', 'type', 'Z (TAD)', 'CNV', \n",
    "        'cscoreChrom', 'cscoreStart', 'cscoreEnd', \n",
    "        'cscoreA1', 'cscoreA2', 'Cscore Sign Switch', 'Z (Cscore Switch)'])\n",
    "    drop = ([\n",
    "        'cscoreChrom', 'cscoreStart', 'cscoreEnd', \n",
    "        'cscoreA1', 'cscoreA2'])\n",
    "    allIntersects[cell] = (\n",
    "        diffTAD.intersect(cscores, wa=True, wb=True)\n",
    "        .to_dataframe(names=names)\n",
    "        .drop(drop, axis=1)\n",
    "        .groupby(['chrom', 'start', 'end', 'type']).mean().reset_index())\n",
    "    \n",
    "    # Remerge with original TAD to recover CNV status which is lost when\n",
    "    # averaging Cscore\n",
    "    allIntersects[cell] = (pd.merge(\n",
    "        allIntersects[cell], diffTAD.to_dataframe(), \n",
    "        left_on=['chrom', 'start', 'end', 'type'], \n",
    "        right_on=['chrom', 'start', 'end', 'name'])\n",
    "    .drop(['name', 'score'], axis=1).rename({'strand': 'CNV'}, axis=1))\n",
    "    allIntersects[cell].insert(0, 'cell', cell)\n",
    "allIntersects = pd.concat(allIntersects.values())"
   ]
  },
  {
   "cell_type": "code",
   "execution_count": 7,
   "metadata": {},
   "outputs": [],
   "source": [
    "df = allIntersects.loc[(allIntersects['Z (Cscore Switch)'].abs() > threshold) & (allIntersects['type'] == 'ASTAD')]\n",
    "df = processBlacklist(df)"
   ]
  },
  {
   "cell_type": "code",
   "execution_count": 8,
   "metadata": {},
   "outputs": [],
   "source": [
    "with pd.ExcelWriter(f'ASTADcompartmentSwitch.xlsx') as writer:\n",
    "    for cell, data in df.groupby('cell'):\n",
    "        BedTool.from_dataframe(data).moveto(f'{cell}-compartmentSwitchASTADs.bed')\n",
    "        data.to_excel(writer, sheet_name=cell, index=False)\n",
    "    allIntersects.to_excel(writer, sheet_name='allData', index=False)"
   ]
  },
  {
   "cell_type": "code",
   "execution_count": null,
   "metadata": {},
   "outputs": [],
   "source": []
  }
 ],
 "metadata": {
  "kernelspec": {
   "display_name": "Python 3",
   "language": "python",
   "name": "python3"
  },
  "language_info": {
   "codemirror_mode": {
    "name": "ipython",
    "version": 3
   },
   "file_extension": ".py",
   "mimetype": "text/x-python",
   "name": "python",
   "nbconvert_exporter": "python",
   "pygments_lexer": "ipython3",
   "version": "3.7.3"
  }
 },
 "nbformat": 4,
 "nbformat_minor": 4
}
