{
 "cells": [
  {
   "cell_type": "code",
   "execution_count": 23,
   "metadata": {},
   "outputs": [],
   "source": [
    "import sys\n",
    "sys.path.append('..')\n",
    "from utilities import formatCell\n",
    "import pandas as pd\n",
    "from collections import defaultdict"
   ]
  },
  {
   "cell_type": "code",
   "execution_count": 24,
   "metadata": {},
   "outputs": [],
   "source": [
    "cells = ['GM12878', 'IMR90', 'H1hESC']\n",
    "allGenes = defaultdict(list)\n",
    "for cell in cells:\n",
    "    with open(f'{cell}-overlapCompartmentSwitch.gff3') as fh:\n",
    "        for line in fh:\n",
    "            line = line.split()\n",
    "            allGenes['cell'].append(formatCell(cell))\n",
    "            allGenes['chrom'].append(line[0])\n",
    "            allGenes['start'].append(int(line[3])) \n",
    "            allGenes['end'].append(int(line[4]))\n",
    "            allGenes['orientation'].append(line[6])\n",
    "            attributes = line[8].split(';')\n",
    "            for a in attributes:\n",
    "                tag, value = a.split('=')\n",
    "                if tag == 'gene_name':\n",
    "                    allGenes['symbol'].append(value)\n",
    "                elif tag == 'gene_id':\n",
    "                    allGenes['ID'].append(value.split('.')[0])\n",
    "                elif tag == 'gene_type':\n",
    "                    allGenes['geneType'].append(value)\n",
    "allGenes = pd.DataFrame(allGenes)\n",
    "allGenes.columns = ['cell', 'chrom', 'start', 'end', 'orientation', 'ID', 'type', 'symbol']"
   ]
  },
  {
   "cell_type": "code",
   "execution_count": 27,
   "metadata": {},
   "outputs": [],
   "source": [
    "with pd.ExcelWriter('genesCompartmentSwitch.xlsx', mode='w') as writer:\n",
    "    for cell, df in allGenes.groupby('cell'):\n",
    "            df.to_excel(writer, index=False, sheet_name=cell)  "
   ]
  },
  {
   "cell_type": "code",
   "execution_count": null,
   "metadata": {},
   "outputs": [],
   "source": []
  }
 ],
 "metadata": {
  "kernelspec": {
   "display_name": "Python 3",
   "language": "python",
   "name": "python3"
  },
  "language_info": {
   "codemirror_mode": {
    "name": "ipython",
    "version": 3
   },
   "file_extension": ".py",
   "mimetype": "text/x-python",
   "name": "python",
   "nbconvert_exporter": "python",
   "pygments_lexer": "ipython3",
   "version": "3.7.3"
  }
 },
 "nbformat": 4,
 "nbformat_minor": 4
}
