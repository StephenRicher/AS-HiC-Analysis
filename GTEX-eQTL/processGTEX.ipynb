{
 "cells": [
  {
   "cell_type": "code",
   "execution_count": 196,
   "id": "04491742",
   "metadata": {},
   "outputs": [],
   "source": [
    "import sys\n",
    "sys.path.append(\"..\")\n",
    "import subprocess\n",
    "import numpy as np\n",
    "import pandas as pd\n",
    "import seaborn as sns\n",
    "\n",
    "from scipy.stats import norm\n",
    "from pybedtools import BedTool\n",
    "import matplotlib.pyplot as plt\n",
    "from collections import defaultdict\n",
    "from scipy.stats import chi2_contingency\n",
    "from utilities import formatP, formatCell, defaultPlotting, sampleByGroup, readDiffTAD\n",
    "\n",
    "np.random.seed(438494)"
   ]
  },
  {
   "cell_type": "code",
   "execution_count": 197,
   "id": "c3e3dd9f",
   "metadata": {},
   "outputs": [],
   "source": [
    "df = pd.read_pickle('../1.ASE_and_Imprinted/allGeneStats.pkl')"
   ]
  },
  {
   "cell_type": "code",
   "execution_count": 198,
   "id": "951bc56f",
   "metadata": {},
   "outputs": [],
   "source": [
    "threshold = 0.01\n",
    "eGenes = pd.read_csv('GTEx_Analysis_v8_eQTL/Cells_EBV-transformed_lymphocytes.v8.egenes.txt.gz', sep='\\t')\n",
    "eGenes['eGene'] = eGenes['qval'] < threshold\n",
    "eGenes['ID'] = eGenes['gene_id'].apply(lambda x: x.split('.')[0])"
   ]
  },
  {
   "cell_type": "code",
   "execution_count": 199,
   "id": "40f05c19",
   "metadata": {},
   "outputs": [],
   "source": [
    "df = pd.merge(eGenes[['ID', 'eGene']], df, how='left').dropna()\n",
    "df['ASTAD'] = df['TAD Score (GM12878)'] > 2"
   ]
  },
  {
   "cell_type": "code",
   "execution_count": 39,
   "id": "d121b0aa",
   "metadata": {},
   "outputs": [],
   "source": [
    "sampleGroups = defaultdict(int, df.loc[df['eGene']].groupby(['geneType']).size().to_dict())"
   ]
  },
  {
   "cell_type": "code",
   "execution_count": 56,
   "id": "149e4c33",
   "metadata": {},
   "outputs": [],
   "source": [
    "obs = ((df['ASTAD']) & (df['eGene'])).sum()\n",
    "exp = []\n",
    "results = {}\n",
    "for i in range(10_000):\n",
    "    sample = sampleByGroup(df, ['geneType'], sampleGroups).reset_index(drop=True)\n",
    "    exp.append((sample['ASTAD']).sum())\n",
    "exp = np.array(exp)"
   ]
  },
  {
   "cell_type": "code",
   "execution_count": 58,
   "id": "e23d29e7",
   "metadata": {},
   "outputs": [
    {
     "data": {
      "image/png": "[encoded data removed]",
      "text/plain": [
       "<Figure size 255.118x255.118 with 1 Axes>"
      ]
     },
     "metadata": {},
     "output_type": "display_data"
    }
   ],
   "source": [
    "defaultPlotting(size=9, width=90, ratio=1)\n",
    "fig, ax = plt.subplots()\n",
    "z = (obs - exp.mean()) / exp.std()\n",
    "p = formatP(1 - norm.cdf(z))\n",
    "sns.histplot(exp, discrete=True, ax=ax)\n",
    "ax.axvline(x=obs, color='red', ls='--')\n",
    "title = f'z = {z:.2f}, p {p}'\n",
    "ax.set_title(title, loc='left')\n",
    "ax.set_ylabel('Frequency')\n",
    "ax.set_xlabel(f'Exp. Random Overlap of eGenes in ASTADs')\n",
    "fig.tight_layout()\n",
    "fig.tight_layout()\n",
    "ax.text(\n",
    "    0, 1, 'a) eGene Enrichment in ASTADs (GM12878)', \n",
    "    transform=fig.transFigure, fontsize='large', \n",
    "    verticalalignment='top', weight='bold')\n",
    "fig.savefig('eGene-ASTAD-enrichment.svg')"
   ]
  },
  {
   "cell_type": "code",
   "execution_count": 142,
   "id": "2a676336",
   "metadata": {},
   "outputs": [],
   "source": [
    "eQTL = pd.read_csv('GTEx_Analysis_v8_eQTL/Cells_EBV-transformed_lymphocytes.v8.signif_variant_gene_pairs.txt.gz', sep='\\t')"
   ]
  },
  {
   "cell_type": "code",
   "execution_count": 143,
   "id": "3ac8e299",
   "metadata": {},
   "outputs": [],
   "source": [
    "eQTL['chrom'] = eQTL['variant_id'].apply(lambda x: x.split('_')[0])\n",
    "eQTL['start'] = eQTL['variant_id'].apply(lambda x: int(x.split('_')[1]) - 1)\n",
    "eQTL['end'] = eQTL['variant_id'].apply(lambda x: int(x.split('_')[1]))"
   ]
  },
  {
   "cell_type": "code",
   "execution_count": 144,
   "id": "f9e6d222",
   "metadata": {},
   "outputs": [
    {
     "name": "stderr",
     "output_type": "stream",
     "text": [
      "2022-05-04 11:00:10 [INFO]  Read the chain file \"../annotation/hg38ToHg19.over.chain.gz\" \n"
     ]
    },
    {
     "data": {
      "text/plain": [
       "CompletedProcess(args=['CrossMap.py', 'bed', '../annotation/hg38ToHg19.over.chain.gz', 'GTEx_Analysis_v8_eQTL/eQTL-GRCh38.bed', 'GTEx_Analysis_v8_eQTL/eQTL-hg19.bed'], returncode=0)"
      ]
     },
     "execution_count": 144,
     "metadata": {},
     "output_type": "execute_result"
    }
   ],
   "source": [
    "out = 'GTEx_Analysis_v8_eQTL/eQTL-GRCh38.bed'\n",
    "hg38Tohg19chain = '../annotation/hg38ToHg19.over.chain.gz'\n",
    "eQTL = BedTool.from_dataframe(eQTL[['chrom', 'start', 'end', 'gene_id']]).sort().moveto(out)\n",
    "subprocess.run(['CrossMap.py', 'bed', hg38Tohg19chain, out, out.replace('GRCh38', 'hg19')])"
   ]
  },
  {
   "cell_type": "code",
   "execution_count": 180,
   "id": "abe52eaa",
   "metadata": {},
   "outputs": [],
   "source": [
    "eQTL = BedTool('GTEx_Analysis_v8_eQTL/eQTL-hg19.bed')"
   ]
  },
  {
   "cell_type": "code",
   "execution_count": 181,
   "id": "e84f4490",
   "metadata": {},
   "outputs": [],
   "source": [
    "dtype = {'chrom': str, 'end': int}\n",
    "hetVar = pd.read_csv(\n",
    "    '../0.processVCFs/GM12878-hetOnly.vcf.gz', dtype=dtype, \n",
    "    names=dtype.keys(), usecols=[0,1], comment='#', sep='\\t')\n",
    "hetVar['start'] = hetVar['end'] - 1\n",
    "hetVar = BedTool.from_dataframe(hetVar[['chrom', 'start', 'end']])"
   ]
  },
  {
   "cell_type": "code",
   "execution_count": 182,
   "id": "4f39c97a",
   "metadata": {},
   "outputs": [],
   "source": [
    "ISoverlapEQTL = hetVar.intersect(eQTL, wa=True, wb=True).to_dataframe()\n",
    "NOToverapEQTL = hetVar.intersect(eQTL, v=True, wa=True).to_dataframe()"
   ]
  },
  {
   "cell_type": "code",
   "execution_count": 183,
   "id": "8455f3de",
   "metadata": {},
   "outputs": [],
   "source": [
    "NOToverapEQTL['eQTL'] = 'Not eQTL'\n",
    "NOToverapEQTL['name'] = np.nan\n",
    "ISoverlapEQTL['eQTL'] = 'eQTL'\n",
    "ISoverlapEQTL['name'] = ISoverlapEQTL['thickStart'] # Associate eQTL linked gene\n",
    "cols = ['chrom', 'start', 'end', 'name', 'eQTL']\n",
    "overlapEQTL = pd.concat([ISoverlapEQTL[cols], NOToverapEQTL[cols]]).drop_duplicates()"
   ]
  },
  {
   "cell_type": "code",
   "execution_count": 184,
   "id": "34b9b51e",
   "metadata": {},
   "outputs": [],
   "source": [
    "diffTAD = readDiffTAD(\n",
    "    'GM12878', diffOnly=False, normalOnly=True, X=False,\n",
    "    excludeLowMap=True, excludeHighSignal=True, pyBed=False)[['chrom', 'start', 'end', 'type']]\n",
    "diffTAD = BedTool.from_dataframe(diffTAD)"
   ]
  },
  {
   "cell_type": "code",
   "execution_count": 185,
   "id": "e97bb261",
   "metadata": {},
   "outputs": [],
   "source": [
    "overlapEQTL = (\n",
    "    BedTool.from_dataframe(overlapEQTL)\n",
    "    .sort()\n",
    "    .intersect(diffTAD, wa=True, wb=True)\n",
    "    .to_dataframe()\n",
    "    .drop_duplicates()\n",
    "    .rename({'name': 'eQTL Gene', 'score': 'eQTL', 'itemRgb': 'type'}, axis=1)\n",
    ")"
   ]
  },
  {
   "cell_type": "code",
   "execution_count": 254,
   "id": "d885273b",
   "metadata": {},
   "outputs": [
    {
     "data": {
      "image/png": "[encoded data removed]",
      "text/plain": [
       "<Figure size 255.118x255.118 with 2 Axes>"
      ]
     },
     "metadata": {},
     "output_type": "display_data"
    }
   ],
   "source": [
    "sub = overlapEQTL[['chrom', 'start', 'end', 'eQTL', 'type']].drop_duplicates().copy()\n",
    "obs = pd.crosstab(sub['eQTL'], sub['type'])\n",
    "chi2, p, dof, exp = chi2_contingency(obs, correction=True)\n",
    "pearsonResiduals = (obs - exp) / (np.sqrt(exp))\n",
    "\n",
    "fig, ax = plt.subplots()\n",
    "sns.heatmap(\n",
    "    pearsonResiduals, cmap='bwr', center=0, vmin=-30, vmax=30, annot=True,\n",
    "    linewidths=1, linecolor='black', \n",
    "    cbar_kws={'label': 'Pearson\\'s Residuals', 'orientation': 'horizontal'},\n",
    "    fmt='.2f', ax=ax)\n",
    "p = formatP(p)\n",
    "title = f'$x^2$ = {chi2:.2f}, $p_{{adj}}$ {p}'\n",
    "ax.set_title(title, loc='left')\n",
    "ax.set_ylabel('Het. Variant Status')\n",
    "ax.set_xlabel('Het. Variant TAD Domain')\n",
    "ax.set_yticklabels(ax.get_yticklabels(), fontsize=7)\n",
    "ax.set_xticklabels(ax.get_xticklabels(), fontsize=7)\n",
    "fig.tight_layout()\n",
    "\n",
    "ax.text(\n",
    "    0, 1, 'b) eQTL Enrichment in ASTADs (GM12878)', \n",
    "    transform=fig.transFigure, fontsize='large', \n",
    "    verticalalignment='top', weight='bold')\n",
    "fig.savefig('eQTL-ASTAD-enrichment.svg')"
   ]
  },
  {
   "cell_type": "code",
   "execution_count": 250,
   "id": "91778325",
   "metadata": {},
   "outputs": [],
   "source": [
    "testedASE = df.loc[df['ASE (GM12878)'] != 'Unknown', 'ID']\n",
    "isASE = df.loc[df['ASE (GM12878)'].isin(['Paternal', 'Maternal']), 'ID']\n",
    "\n",
    "overlapEQTL['eQTL Gene'] = overlapEQTL['eQTL Gene'].apply(lambda x: x.split('.')[0])\n",
    "df2 = overlapEQTL.loc[(overlapEQTL['eQTL Gene'].isin(testedASE))].copy()\n",
    "df2['ASE'] = df2['eQTL Gene'].isin(isASE)\n",
    "df2['ASE'] = df2['ASE'].apply(lambda x: 'ASE' if x else 'Non-ASE')"
   ]
  },
  {
   "cell_type": "code",
   "execution_count": 256,
   "id": "59532e48",
   "metadata": {},
   "outputs": [
    {
     "data": {
      "image/png": "[encoded data removed]",
      "text/plain": [
       "<Figure size 255.118x255.118 with 2 Axes>"
      ]
     },
     "metadata": {},
     "output_type": "display_data"
    }
   ],
   "source": [
    "obs = pd.crosstab(df2['ASE'], df2['type'])\n",
    "chi2, p, dof, exp = chi2_contingency(obs, correction=True)\n",
    "\n",
    "pearsonResiduals = (obs - exp) / (np.sqrt(exp))\n",
    "\n",
    "fig, ax = plt.subplots()\n",
    "sns.heatmap(\n",
    "    pearsonResiduals, cmap='bwr', center=0, vmin=-10, vmax=10, annot=True,\n",
    "    linewidths=1, linecolor='black', \n",
    "    cbar_kws={'label': 'Pearson\\'s Residuals', 'orientation': 'horizontal'},\n",
    "    fmt='.2f', ax=ax)\n",
    "p = formatP(p)\n",
    "title = f'$x^2$ = {chi2:.2f}, $p_{{adj}}$ {p}'\n",
    "ax.set_title(title, loc='left')\n",
    "ax.set_ylabel('eQTL Linked Gene Expression')\n",
    "ax.set_xlabel('eQTL TAD Domain')\n",
    "ax.set_yticklabels(ax.get_yticklabels(), fontsize=7)\n",
    "ax.set_xticklabels(ax.get_xticklabels(), fontsize=7)\n",
    "fig.tight_layout()\n",
    "\n",
    "ax.text(\n",
    "    0, 1, 'c) eQTL Linked Gene Expression (GM12878)', \n",
    "    transform=fig.transFigure, fontsize='large', \n",
    "    verticalalignment='top', weight='bold')\n",
    "fig.savefig('eQTL-Gene-Expression.svg')"
   ]
  },
  {
   "cell_type": "code",
   "execution_count": 258,
   "id": "3e7c67fe",
   "metadata": {},
   "outputs": [
    {
     "data": {
      "image/png": "[encoded data removed]",
      "text/plain": [
       "<Figure size 255.118x255.118 with 1 Axes>"
      ]
     },
     "metadata": {},
     "output_type": "display_data"
    }
   ],
   "source": [
    "fig, ax = plt.subplots()\n",
    "ax.axis('off')\n",
    "fig.tight_layout()\n",
    "fig.savefig('blankPlot.svg')"
   ]
  },
  {
   "cell_type": "code",
   "execution_count": null,
   "id": "87c2ec92",
   "metadata": {},
   "outputs": [],
   "source": []
  }
 ],
 "metadata": {
  "kernelspec": {
   "display_name": "Python 3 (ipykernel)",
   "language": "python",
   "name": "python3"
  },
  "language_info": {
   "codemirror_mode": {
    "name": "ipython",
    "version": 3
   },
   "file_extension": ".py",
   "mimetype": "text/x-python",
   "name": "python",
   "nbconvert_exporter": "python",
   "pygments_lexer": "ipython3",
   "version": "3.9.7"
  }
 },
 "nbformat": 4,
 "nbformat_minor": 5
}
